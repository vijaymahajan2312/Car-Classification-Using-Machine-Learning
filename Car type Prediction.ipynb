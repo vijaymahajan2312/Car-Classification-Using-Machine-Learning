{
 "cells": [
  {
   "cell_type": "markdown",
   "id": "fd89d34d",
   "metadata": {},
   "source": [
    "# Read Dataset"
   ]
  },
  {
   "cell_type": "code",
   "execution_count": 36,
   "id": "f526fc90",
   "metadata": {},
   "outputs": [
    {
     "data": {
      "text/html": [
       "<div>\n",
       "<style scoped>\n",
       "    .dataframe tbody tr th:only-of-type {\n",
       "        vertical-align: middle;\n",
       "    }\n",
       "\n",
       "    .dataframe tbody tr th {\n",
       "        vertical-align: top;\n",
       "    }\n",
       "\n",
       "    .dataframe thead th {\n",
       "        text-align: right;\n",
       "    }\n",
       "</style>\n",
       "<table border=\"1\" class=\"dataframe\">\n",
       "  <thead>\n",
       "    <tr style=\"text-align: right;\">\n",
       "      <th></th>\n",
       "      <th>id</th>\n",
       "      <th>Manufacturer</th>\n",
       "      <th>Model</th>\n",
       "      <th>Type</th>\n",
       "      <th>Min.Price</th>\n",
       "      <th>Price</th>\n",
       "      <th>Max.Price</th>\n",
       "      <th>MPG.city</th>\n",
       "      <th>MPG.highway</th>\n",
       "      <th>AirBags</th>\n",
       "      <th>...</th>\n",
       "      <th>Passengers</th>\n",
       "      <th>Length</th>\n",
       "      <th>Wheelbase</th>\n",
       "      <th>Width</th>\n",
       "      <th>Turn.circle</th>\n",
       "      <th>Rear.seat.room</th>\n",
       "      <th>Luggage.room</th>\n",
       "      <th>Weight</th>\n",
       "      <th>Origin</th>\n",
       "      <th>Make</th>\n",
       "    </tr>\n",
       "  </thead>\n",
       "  <tbody>\n",
       "    <tr>\n",
       "      <th>0</th>\n",
       "      <td>1</td>\n",
       "      <td>Acura</td>\n",
       "      <td>Integra</td>\n",
       "      <td>Small</td>\n",
       "      <td>12.9</td>\n",
       "      <td>15.9</td>\n",
       "      <td>18.8</td>\n",
       "      <td>25</td>\n",
       "      <td>31</td>\n",
       "      <td>None</td>\n",
       "      <td>...</td>\n",
       "      <td>5</td>\n",
       "      <td>177</td>\n",
       "      <td>102</td>\n",
       "      <td>68</td>\n",
       "      <td>37</td>\n",
       "      <td>26.5</td>\n",
       "      <td>11.0</td>\n",
       "      <td>2705</td>\n",
       "      <td>non-USA</td>\n",
       "      <td>Acura Integra</td>\n",
       "    </tr>\n",
       "    <tr>\n",
       "      <th>1</th>\n",
       "      <td>2</td>\n",
       "      <td>Acura</td>\n",
       "      <td>Legend</td>\n",
       "      <td>Midsize</td>\n",
       "      <td>29.2</td>\n",
       "      <td>33.9</td>\n",
       "      <td>38.7</td>\n",
       "      <td>18</td>\n",
       "      <td>25</td>\n",
       "      <td>Driver &amp; Passenger</td>\n",
       "      <td>...</td>\n",
       "      <td>5</td>\n",
       "      <td>195</td>\n",
       "      <td>115</td>\n",
       "      <td>71</td>\n",
       "      <td>38</td>\n",
       "      <td>30.0</td>\n",
       "      <td>15.0</td>\n",
       "      <td>3560</td>\n",
       "      <td>non-USA</td>\n",
       "      <td>Acura Legend</td>\n",
       "    </tr>\n",
       "    <tr>\n",
       "      <th>2</th>\n",
       "      <td>3</td>\n",
       "      <td>Audi</td>\n",
       "      <td>90</td>\n",
       "      <td>Compact</td>\n",
       "      <td>25.9</td>\n",
       "      <td>29.1</td>\n",
       "      <td>32.3</td>\n",
       "      <td>20</td>\n",
       "      <td>26</td>\n",
       "      <td>Driver only</td>\n",
       "      <td>...</td>\n",
       "      <td>5</td>\n",
       "      <td>180</td>\n",
       "      <td>102</td>\n",
       "      <td>67</td>\n",
       "      <td>37</td>\n",
       "      <td>28.0</td>\n",
       "      <td>14.0</td>\n",
       "      <td>3375</td>\n",
       "      <td>non-USA</td>\n",
       "      <td>Audi 90</td>\n",
       "    </tr>\n",
       "    <tr>\n",
       "      <th>3</th>\n",
       "      <td>4</td>\n",
       "      <td>Audi</td>\n",
       "      <td>100</td>\n",
       "      <td>Midsize</td>\n",
       "      <td>30.8</td>\n",
       "      <td>37.7</td>\n",
       "      <td>44.6</td>\n",
       "      <td>19</td>\n",
       "      <td>26</td>\n",
       "      <td>NaN</td>\n",
       "      <td>...</td>\n",
       "      <td>6</td>\n",
       "      <td>193</td>\n",
       "      <td>106</td>\n",
       "      <td>70</td>\n",
       "      <td>37</td>\n",
       "      <td>31.0</td>\n",
       "      <td>17.0</td>\n",
       "      <td>3405</td>\n",
       "      <td>non-USA</td>\n",
       "      <td>Audi 100</td>\n",
       "    </tr>\n",
       "    <tr>\n",
       "      <th>4</th>\n",
       "      <td>5</td>\n",
       "      <td>BMW</td>\n",
       "      <td>535i</td>\n",
       "      <td>Midsize</td>\n",
       "      <td>23.7</td>\n",
       "      <td>30.0</td>\n",
       "      <td>36.2</td>\n",
       "      <td>22</td>\n",
       "      <td>30</td>\n",
       "      <td>Driver only</td>\n",
       "      <td>...</td>\n",
       "      <td>4</td>\n",
       "      <td>186</td>\n",
       "      <td>109</td>\n",
       "      <td>69</td>\n",
       "      <td>39</td>\n",
       "      <td>27.0</td>\n",
       "      <td>13.0</td>\n",
       "      <td>3640</td>\n",
       "      <td>non-USA</td>\n",
       "      <td>BMW 535i</td>\n",
       "    </tr>\n",
       "  </tbody>\n",
       "</table>\n",
       "<p>5 rows × 28 columns</p>\n",
       "</div>"
      ],
      "text/plain": [
       "   id Manufacturer    Model     Type  Min.Price  Price  Max.Price  MPG.city  \\\n",
       "0   1        Acura  Integra    Small       12.9   15.9       18.8        25   \n",
       "1   2        Acura   Legend  Midsize       29.2   33.9       38.7        18   \n",
       "2   3         Audi       90  Compact       25.9   29.1       32.3        20   \n",
       "3   4         Audi      100  Midsize       30.8   37.7       44.6        19   \n",
       "4   5          BMW     535i  Midsize       23.7   30.0       36.2        22   \n",
       "\n",
       "   MPG.highway             AirBags  ... Passengers Length  Wheelbase  Width  \\\n",
       "0           31                None  ...          5    177        102     68   \n",
       "1           25  Driver & Passenger  ...          5    195        115     71   \n",
       "2           26         Driver only  ...          5    180        102     67   \n",
       "3           26                 NaN  ...          6    193        106     70   \n",
       "4           30         Driver only  ...          4    186        109     69   \n",
       "\n",
       "   Turn.circle  Rear.seat.room Luggage.room  Weight   Origin           Make  \n",
       "0           37            26.5         11.0    2705  non-USA  Acura Integra  \n",
       "1           38            30.0         15.0    3560  non-USA   Acura Legend  \n",
       "2           37            28.0         14.0    3375  non-USA        Audi 90  \n",
       "3           37            31.0         17.0    3405  non-USA       Audi 100  \n",
       "4           39            27.0         13.0    3640  non-USA       BMW 535i  \n",
       "\n",
       "[5 rows x 28 columns]"
      ]
     },
     "execution_count": 36,
     "metadata": {},
     "output_type": "execute_result"
    }
   ],
   "source": [
    "import pandas as pd\n",
    "car = pd.read_csv(\"C:/Documents/DataScience/Cars93.csv\")\n",
    "car.head()"
   ]
  },
  {
   "cell_type": "code",
   "execution_count": 37,
   "id": "2a0cba74",
   "metadata": {
    "scrolled": true
   },
   "outputs": [
    {
     "name": "stdout",
     "output_type": "stream",
     "text": [
      "<class 'pandas.core.frame.DataFrame'>\n",
      "RangeIndex: 93 entries, 0 to 92\n",
      "Data columns (total 28 columns):\n",
      " #   Column              Non-Null Count  Dtype  \n",
      "---  ------              --------------  -----  \n",
      " 0   id                  93 non-null     int64  \n",
      " 1   Manufacturer        93 non-null     object \n",
      " 2   Model               93 non-null     object \n",
      " 3   Type                93 non-null     object \n",
      " 4   Min.Price           93 non-null     float64\n",
      " 5   Price               93 non-null     float64\n",
      " 6   Max.Price           93 non-null     float64\n",
      " 7   MPG.city            93 non-null     int64  \n",
      " 8   MPG.highway         93 non-null     int64  \n",
      " 9   AirBags             89 non-null     object \n",
      " 10  DriveTrain          93 non-null     object \n",
      " 11  Cylinders           93 non-null     object \n",
      " 12  EngineSize          93 non-null     float64\n",
      " 13  Horsepower          93 non-null     int64  \n",
      " 14  RPM                 93 non-null     int64  \n",
      " 15  Rev.per.mile        93 non-null     int64  \n",
      " 16  Man.trans.avail     93 non-null     object \n",
      " 17  Fuel.tank.capacity  93 non-null     float64\n",
      " 18  Passengers          93 non-null     int64  \n",
      " 19  Length              93 non-null     int64  \n",
      " 20  Wheelbase           93 non-null     int64  \n",
      " 21  Width               93 non-null     int64  \n",
      " 22  Turn.circle         93 non-null     int64  \n",
      " 23  Rear.seat.room      91 non-null     float64\n",
      " 24  Luggage.room        82 non-null     float64\n",
      " 25  Weight              93 non-null     int64  \n",
      " 26  Origin              93 non-null     object \n",
      " 27  Make                93 non-null     object \n",
      "dtypes: float64(7), int64(12), object(9)\n",
      "memory usage: 20.5+ KB\n"
     ]
    }
   ],
   "source": [
    "car.info()"
   ]
  },
  {
   "cell_type": "code",
   "execution_count": 38,
   "id": "2d16af3d",
   "metadata": {},
   "outputs": [],
   "source": [
    "car.columns =['id', 'Manufacturer', 'Model', 'Type', 'MinPrice', 'Price',\n",
    "       'MaxPrice', 'MPGcity', 'MPGhighway', 'AirBags', 'DriveTrain',\n",
    "       'Cylinders', 'EngineSize', 'Horsepower', 'RPM', 'RevPerMile',\n",
    "       'ManTransAvail', 'FuelTankCapacity', 'Passengers', 'Length',\n",
    "       'Wheelbase', 'Width', 'TurnCircle', 'RearSeatRoom', 'LuggageRoom',\n",
    "       'Weight', 'Origin', 'Make']"
   ]
  },
  {
   "cell_type": "markdown",
   "id": "0a8cade7",
   "metadata": {},
   "source": [
    "# Dealing with Missing Data"
   ]
  },
  {
   "cell_type": "code",
   "execution_count": 39,
   "id": "55a58e67",
   "metadata": {},
   "outputs": [],
   "source": [
    "for i in car.columns:\n",
    "    if(car[i].dtype=='object'):\n",
    "        x = car[i].mode()[0]\n",
    "        car[i] = car[i].fillna(x)\n",
    "    else:\n",
    "        x = car[i].mean()\n",
    "        car[i] = car[i].fillna(x)"
   ]
  },
  {
   "cell_type": "code",
   "execution_count": 40,
   "id": "5c27516a",
   "metadata": {},
   "outputs": [
    {
     "name": "stdout",
     "output_type": "stream",
     "text": [
      "<class 'pandas.core.frame.DataFrame'>\n",
      "RangeIndex: 93 entries, 0 to 92\n",
      "Data columns (total 28 columns):\n",
      " #   Column            Non-Null Count  Dtype  \n",
      "---  ------            --------------  -----  \n",
      " 0   id                93 non-null     int64  \n",
      " 1   Manufacturer      93 non-null     object \n",
      " 2   Model             93 non-null     object \n",
      " 3   Type              93 non-null     object \n",
      " 4   MinPrice          93 non-null     float64\n",
      " 5   Price             93 non-null     float64\n",
      " 6   MaxPrice          93 non-null     float64\n",
      " 7   MPGcity           93 non-null     int64  \n",
      " 8   MPGhighway        93 non-null     int64  \n",
      " 9   AirBags           93 non-null     object \n",
      " 10  DriveTrain        93 non-null     object \n",
      " 11  Cylinders         93 non-null     object \n",
      " 12  EngineSize        93 non-null     float64\n",
      " 13  Horsepower        93 non-null     int64  \n",
      " 14  RPM               93 non-null     int64  \n",
      " 15  RevPerMile        93 non-null     int64  \n",
      " 16  ManTransAvail     93 non-null     object \n",
      " 17  FuelTankCapacity  93 non-null     float64\n",
      " 18  Passengers        93 non-null     int64  \n",
      " 19  Length            93 non-null     int64  \n",
      " 20  Wheelbase         93 non-null     int64  \n",
      " 21  Width             93 non-null     int64  \n",
      " 22  TurnCircle        93 non-null     int64  \n",
      " 23  RearSeatRoom      93 non-null     float64\n",
      " 24  LuggageRoom       93 non-null     float64\n",
      " 25  Weight            93 non-null     int64  \n",
      " 26  Origin            93 non-null     object \n",
      " 27  Make              93 non-null     object \n",
      "dtypes: float64(7), int64(12), object(9)\n",
      "memory usage: 20.5+ KB\n"
     ]
    }
   ],
   "source": [
    "car.info()"
   ]
  },
  {
   "cell_type": "markdown",
   "id": "e98d25e8",
   "metadata": {},
   "source": [
    "# Define Y and X"
   ]
  },
  {
   "cell_type": "code",
   "execution_count": 41,
   "id": "2e461eed",
   "metadata": {},
   "outputs": [],
   "source": [
    "Y = car[[\"Type\"]]\n",
    "X = car.drop(labels=[\"Type\",\"id\",\"Make\"],axis=1)"
   ]
  },
  {
   "cell_type": "markdown",
   "id": "e3ccd792",
   "metadata": {},
   "source": [
    "# Feature selection based on EDA"
   ]
  },
  {
   "cell_type": "code",
   "execution_count": 42,
   "id": "7b1a73a3",
   "metadata": {
    "scrolled": false
   },
   "outputs": [
    {
     "data": {
      "image/png": "[encoded data removed]",
      "text/plain": [
       "<Figure size 432x288 with 1 Axes>"
      ]
     },
     "metadata": {
      "needs_background": "light"
     },
     "output_type": "display_data"
    },
    {
     "data": {
      "image/png": "[encoded data removed]",
      "text/plain": [
       "<Figure size 432x288 with 1 Axes>"
      ]
     },
     "metadata": {
      "needs_background": "light"
     },
     "output_type": "display_data"
    },
    {
     "data": {
      "image/png": "[encoded data removed]",
      "text/plain": [
       "<Figure size 432x288 with 1 Axes>"
      ]
     },
     "metadata": {
      "needs_background": "light"
     },
     "output_type": "display_data"
    },
    {
     "data": {
      "image/png": "[encoded data removed]",
      "text/plain": [
       "<Figure size 432x288 with 1 Axes>"
      ]
     },
     "metadata": {
      "needs_background": "light"
     },
     "output_type": "display_data"
    },
    {
     "data": {
      "image/png": "[encoded data removed]",
      "text/plain": [
       "<Figure size 432x288 with 1 Axes>"
      ]
     },
     "metadata": {
      "needs_background": "light"
     },
     "output_type": "display_data"
    },
    {
     "data": {
      "image/png": "[encoded data removed]",
      "text/plain": [
       "<Figure size 432x288 with 1 Axes>"
      ]
     },
     "metadata": {
      "needs_background": "light"
     },
     "output_type": "display_data"
    },
    {
     "data": {
      "image/png": "[encoded data removed]",
      "text/plain": [
       "<Figure size 432x288 with 1 Axes>"
      ]
     },
     "metadata": {
      "needs_background": "light"
     },
     "output_type": "display_data"
    },
    {
     "data": {
      "image/png": "[encoded data removed]",
      "text/plain": [
       "<Figure size 432x288 with 1 Axes>"
      ]
     },
     "metadata": {
      "needs_background": "light"
     },
     "output_type": "display_data"
    },
    {
     "data": {
      "image/png": "[encoded data removed]",
      "text/plain": [
       "<Figure size 432x288 with 1 Axes>"
      ]
     },
     "metadata": {
      "needs_background": "light"
     },
     "output_type": "display_data"
    },
    {
     "data": {
      "image/png": "[encoded data removed]",
      "text/plain": [
       "<Figure size 432x288 with 1 Axes>"
      ]
     },
     "metadata": {
      "needs_background": "light"
     },
     "output_type": "display_data"
    },
    {
     "data": {
      "image/png": "[encoded data removed]",
      "text/plain": [
       "<Figure size 432x288 with 1 Axes>"
      ]
     },
     "metadata": {
      "needs_background": "light"
     },
     "output_type": "display_data"
    },
    {
     "data": {
      "image/png": "[encoded data removed]",
      "text/plain": [
       "<Figure size 432x288 with 1 Axes>"
      ]
     },
     "metadata": {
      "needs_background": "light"
     },
     "output_type": "display_data"
    },
    {
     "data": {
      "image/png": "[encoded data removed]",
      "text/plain": [
       "<Figure size 432x288 with 1 Axes>"
      ]
     },
     "metadata": {
      "needs_background": "light"
     },
     "output_type": "display_data"
    },
    {
     "data": {
      "image/png": "[encoded data removed]",
      "text/plain": [
       "<Figure size 432x288 with 1 Axes>"
      ]
     },
     "metadata": {
      "needs_background": "light"
     },
     "output_type": "display_data"
    },
    {
     "data": {
      "image/png": "[encoded data removed]",
      "text/plain": [
       "<Figure size 432x288 with 1 Axes>"
      ]
     },
     "metadata": {
      "needs_background": "light"
     },
     "output_type": "display_data"
    },
    {
     "data": {
      "image/png": "[encoded data removed]",
      "text/plain": [
       "<Figure size 432x288 with 1 Axes>"
      ]
     },
     "metadata": {
      "needs_background": "light"
     },
     "output_type": "display_data"
    },
    {
     "data": {
      "image/png": "[encoded data removed]",
      "text/plain": [
       "<Figure size 432x288 with 1 Axes>"
      ]
     },
     "metadata": {
      "needs_background": "light"
     },
     "output_type": "display_data"
    },
    {
     "data": {
      "image/png": "[encoded data removed]",
      "text/plain": [
       "<Figure size 432x288 with 1 Axes>"
      ]
     },
     "metadata": {
      "needs_background": "light"
     },
     "output_type": "display_data"
    },
    {
     "data": {
      "image/png": "[encoded data removed]",
      "text/plain": [
       "<Figure size 432x288 with 1 Axes>"
      ]
     },
     "metadata": {
      "needs_background": "light"
     },
     "output_type": "display_data"
    },
    {
     "data": {
      "image/png": "[encoded data removed]",
      "text/plain": [
       "<Figure size 432x288 with 1 Axes>"
      ]
     },
     "metadata": {
      "needs_background": "light"
     },
     "output_type": "display_data"
    },
    {
     "data": {
      "image/png": "[encoded data removed]",
      "text/plain": [
       "<Figure size 432x288 with 1 Axes>"
      ]
     },
     "metadata": {
      "needs_background": "light"
     },
     "output_type": "display_data"
    },
    {
     "data": {
      "image/png": "[encoded data removed]",
      "text/plain": [
       "<Figure size 432x288 with 1 Axes>"
      ]
     },
     "metadata": {
      "needs_background": "light"
     },
     "output_type": "display_data"
    },
    {
     "data": {
      "image/png": "[encoded data removed]",
      "text/plain": [
       "<Figure size 432x288 with 1 Axes>"
      ]
     },
     "metadata": {
      "needs_background": "light"
     },
     "output_type": "display_data"
    },
    {
     "data": {
      "image/png": "[encoded data removed]",
      "text/plain": [
       "<Figure size 432x288 with 1 Axes>"
      ]
     },
     "metadata": {
      "needs_background": "light"
     },
     "output_type": "display_data"
    },
    {
     "data": {
      "image/png": "[encoded data removed]",
      "text/plain": [
       "<Figure size 432x288 with 1 Axes>"
      ]
     },
     "metadata": {
      "needs_background": "light"
     },
     "output_type": "display_data"
    }
   ],
   "source": [
    "from warnings import filterwarnings\n",
    "filterwarnings(\"ignore\")\n",
    "import seaborn as sb\n",
    "import matplotlib.pyplot as plt\n",
    "for i in X.columns:\n",
    "    if(X[i].dtypes==\"object\"):\n",
    "        sb.countplot(X[i],hue=Y.Type)\n",
    "        plt.show()\n",
    "    else:\n",
    "        sb.boxplot(Y.Type,X[i])\n",
    "        plt.show()"
   ]
  },
  {
   "cell_type": "code",
   "execution_count": 43,
   "id": "50431fe9",
   "metadata": {},
   "outputs": [],
   "source": [
    "cat=[]\n",
    "con =[]\n",
    "for i in X.columns:\n",
    "    if(X[i].dtypes==\"object\"):\n",
    "        cat.append(i)\n",
    "    else:\n",
    "        con.append(i)"
   ]
  },
  {
   "cell_type": "code",
   "execution_count": 44,
   "id": "583173f4",
   "metadata": {},
   "outputs": [
    {
     "name": "stdout",
     "output_type": "stream",
     "text": [
      "Type vs  MinPrice --> 0.0\n",
      "Type vs  Price --> 0.0\n",
      "Type vs  MaxPrice --> 0.0\n",
      "Type vs  MPGcity --> 0.0\n",
      "Type vs  MPGhighway --> 0.0\n",
      "Type vs  EngineSize --> 0.0\n",
      "Type vs  Horsepower --> 0.0\n",
      "Type vs  RPM --> 0.0\n",
      "Type vs  RevPerMile --> 0.0\n",
      "Type vs  FuelTankCapacity --> 0.0\n",
      "Type vs  Passengers --> 0.0\n",
      "Type vs  Length --> 0.0\n",
      "Type vs  Wheelbase --> 0.0\n",
      "Type vs  Width --> 0.0\n",
      "Type vs  TurnCircle --> 0.0\n",
      "Type vs  RearSeatRoom --> 0.0\n",
      "Type vs  LuggageRoom --> 0.0\n",
      "Type vs  Weight --> 0.0\n"
     ]
    }
   ],
   "source": [
    "def ANOVA(df,cat,con):\n",
    "    from pandas import DataFrame\n",
    "    from statsmodels.api import OLS\n",
    "    from statsmodels.formula.api import ols\n",
    "    rel = con + \" ~ \" + cat\n",
    "    model = ols(rel,df).fit()\n",
    "    from statsmodels.stats.anova import anova_lm\n",
    "    anova_results = anova_lm(model)\n",
    "    Q = DataFrame(anova_results)\n",
    "    a = Q['PR(>F)'][cat]\n",
    "    return round(a,3)\n",
    "\n",
    "imp_con_cols = []\n",
    "for i in X[con]:\n",
    "    if(X[i].dtypes!=\"object\"):\n",
    "        x = ANOVA(car,\"Type\",i)\n",
    "        if(x < 0.05):\n",
    "            print(\"Type vs \",i,\"-->\",x)\n",
    "            imp_con_cols.append(i)"
   ]
  },
  {
   "cell_type": "code",
   "execution_count": 45,
   "id": "39c11f0f",
   "metadata": {},
   "outputs": [
    {
     "name": "stdout",
     "output_type": "stream",
     "text": [
      "Type vs  AirBags --> 0.00022621310210534361\n",
      "Type vs  DriveTrain --> 0.00012480179759447616\n",
      "Type vs  Cylinders --> 1.674244316924938e-07\n",
      "Type vs  ManTransAvail --> 3.661469229213669e-10\n",
      "Type vs  Origin --> 0.015110051037674484\n"
     ]
    }
   ],
   "source": [
    "from scipy.stats import chi2_contingency\n",
    "def chisquare(df,cat1,cat2):\n",
    "    ct = pd.crosstab(df[cat1], df[cat2])\n",
    "    a,b,c,d = chi2_contingency(ct)\n",
    "    return b\n",
    "\n",
    "imp_cat_cols = []\n",
    "for i in X[cat]:\n",
    "    if(X[i].dtypes==\"object\"):\n",
    "        x = chisquare(car,\"Type\",i)\n",
    "        if(x < 0.05):\n",
    "            print(\"Type vs \",i,\"-->\",x)\n",
    "            imp_cat_cols.append(i)"
   ]
  },
  {
   "cell_type": "markdown",
   "id": "d50fcb0a",
   "metadata": {},
   "source": [
    "# Preprocessing"
   ]
  },
  {
   "cell_type": "code",
   "execution_count": 46,
   "id": "681fc208",
   "metadata": {
    "scrolled": true
   },
   "outputs": [
    {
     "data": {
      "text/html": [
       "<div>\n",
       "<style scoped>\n",
       "    .dataframe tbody tr th:only-of-type {\n",
       "        vertical-align: middle;\n",
       "    }\n",
       "\n",
       "    .dataframe tbody tr th {\n",
       "        vertical-align: top;\n",
       "    }\n",
       "\n",
       "    .dataframe thead th {\n",
       "        text-align: right;\n",
       "    }\n",
       "</style>\n",
       "<table border=\"1\" class=\"dataframe\">\n",
       "  <thead>\n",
       "    <tr style=\"text-align: right;\">\n",
       "      <th></th>\n",
       "      <th>MinPrice</th>\n",
       "      <th>Price</th>\n",
       "      <th>MaxPrice</th>\n",
       "      <th>MPGcity</th>\n",
       "      <th>MPGhighway</th>\n",
       "      <th>EngineSize</th>\n",
       "      <th>Horsepower</th>\n",
       "      <th>RPM</th>\n",
       "      <th>RevPerMile</th>\n",
       "      <th>FuelTankCapacity</th>\n",
       "      <th>...</th>\n",
       "      <th>Cylinders_3</th>\n",
       "      <th>Cylinders_4</th>\n",
       "      <th>Cylinders_5</th>\n",
       "      <th>Cylinders_6</th>\n",
       "      <th>Cylinders_8</th>\n",
       "      <th>Cylinders_rotary</th>\n",
       "      <th>ManTransAvail_No</th>\n",
       "      <th>ManTransAvail_Yes</th>\n",
       "      <th>Origin_USA</th>\n",
       "      <th>Origin_non-USA</th>\n",
       "    </tr>\n",
       "  </thead>\n",
       "  <tbody>\n",
       "    <tr>\n",
       "      <th>0</th>\n",
       "      <td>-0.485787</td>\n",
       "      <td>-0.375720</td>\n",
       "      <td>-0.282465</td>\n",
       "      <td>0.471312</td>\n",
       "      <td>0.360925</td>\n",
       "      <td>-0.841022</td>\n",
       "      <td>-0.073484</td>\n",
       "      <td>1.717489</td>\n",
       "      <td>1.129530</td>\n",
       "      <td>-1.062184</td>\n",
       "      <td>...</td>\n",
       "      <td>0</td>\n",
       "      <td>1</td>\n",
       "      <td>0</td>\n",
       "      <td>0</td>\n",
       "      <td>0</td>\n",
       "      <td>0</td>\n",
       "      <td>0</td>\n",
       "      <td>1</td>\n",
       "      <td>0</td>\n",
       "      <td>1</td>\n",
       "    </tr>\n",
       "    <tr>\n",
       "      <th>1</th>\n",
       "      <td>1.388017</td>\n",
       "      <td>1.497844</td>\n",
       "      <td>1.531409</td>\n",
       "      <td>-0.781032</td>\n",
       "      <td>-0.770514</td>\n",
       "      <td>0.515869</td>\n",
       "      <td>1.078322</td>\n",
       "      <td>0.369586</td>\n",
       "      <td>0.005661</td>\n",
       "      <td>0.409445</td>\n",
       "      <td>...</td>\n",
       "      <td>0</td>\n",
       "      <td>0</td>\n",
       "      <td>0</td>\n",
       "      <td>1</td>\n",
       "      <td>0</td>\n",
       "      <td>0</td>\n",
       "      <td>0</td>\n",
       "      <td>1</td>\n",
       "      <td>0</td>\n",
       "      <td>1</td>\n",
       "    </tr>\n",
       "    <tr>\n",
       "      <th>2</th>\n",
       "      <td>1.008658</td>\n",
       "      <td>0.998227</td>\n",
       "      <td>0.948052</td>\n",
       "      <td>-0.423219</td>\n",
       "      <td>-0.581941</td>\n",
       "      <td>0.128186</td>\n",
       "      <td>0.540813</td>\n",
       "      <td>0.369586</td>\n",
       "      <td>-0.105713</td>\n",
       "      <td>0.072197</td>\n",
       "      <td>...</td>\n",
       "      <td>0</td>\n",
       "      <td>0</td>\n",
       "      <td>0</td>\n",
       "      <td>1</td>\n",
       "      <td>0</td>\n",
       "      <td>0</td>\n",
       "      <td>0</td>\n",
       "      <td>1</td>\n",
       "      <td>0</td>\n",
       "      <td>1</td>\n",
       "    </tr>\n",
       "    <tr>\n",
       "      <th>3</th>\n",
       "      <td>1.571949</td>\n",
       "      <td>1.893374</td>\n",
       "      <td>2.069191</td>\n",
       "      <td>-0.602126</td>\n",
       "      <td>-0.581941</td>\n",
       "      <td>0.128186</td>\n",
       "      <td>0.540813</td>\n",
       "      <td>0.369586</td>\n",
       "      <td>0.410659</td>\n",
       "      <td>1.359872</td>\n",
       "      <td>...</td>\n",
       "      <td>0</td>\n",
       "      <td>0</td>\n",
       "      <td>0</td>\n",
       "      <td>1</td>\n",
       "      <td>0</td>\n",
       "      <td>0</td>\n",
       "      <td>0</td>\n",
       "      <td>1</td>\n",
       "      <td>0</td>\n",
       "      <td>1</td>\n",
       "    </tr>\n",
       "    <tr>\n",
       "      <th>4</th>\n",
       "      <td>0.755752</td>\n",
       "      <td>1.091905</td>\n",
       "      <td>1.303535</td>\n",
       "      <td>-0.065407</td>\n",
       "      <td>0.172352</td>\n",
       "      <td>0.806631</td>\n",
       "      <td>1.231897</td>\n",
       "      <td>0.706562</td>\n",
       "      <td>0.430909</td>\n",
       "      <td>1.359872</td>\n",
       "      <td>...</td>\n",
       "      <td>0</td>\n",
       "      <td>1</td>\n",
       "      <td>0</td>\n",
       "      <td>0</td>\n",
       "      <td>0</td>\n",
       "      <td>0</td>\n",
       "      <td>0</td>\n",
       "      <td>1</td>\n",
       "      <td>0</td>\n",
       "      <td>1</td>\n",
       "    </tr>\n",
       "    <tr>\n",
       "      <th>...</th>\n",
       "      <td>...</td>\n",
       "      <td>...</td>\n",
       "      <td>...</td>\n",
       "      <td>...</td>\n",
       "      <td>...</td>\n",
       "      <td>...</td>\n",
       "      <td>...</td>\n",
       "      <td>...</td>\n",
       "      <td>...</td>\n",
       "      <td>...</td>\n",
       "      <td>...</td>\n",
       "      <td>...</td>\n",
       "      <td>...</td>\n",
       "      <td>...</td>\n",
       "      <td>...</td>\n",
       "      <td>...</td>\n",
       "      <td>...</td>\n",
       "      <td>...</td>\n",
       "      <td>...</td>\n",
       "      <td>...</td>\n",
       "      <td>...</td>\n",
       "    </tr>\n",
       "    <tr>\n",
       "      <th>88</th>\n",
       "      <td>-0.060445</td>\n",
       "      <td>0.019810</td>\n",
       "      <td>0.073018</td>\n",
       "      <td>-0.959938</td>\n",
       "      <td>-1.524806</td>\n",
       "      <td>-0.162577</td>\n",
       "      <td>-0.668585</td>\n",
       "      <td>-1.315292</td>\n",
       "      <td>1.180155</td>\n",
       "      <td>1.359872</td>\n",
       "      <td>...</td>\n",
       "      <td>0</td>\n",
       "      <td>0</td>\n",
       "      <td>1</td>\n",
       "      <td>0</td>\n",
       "      <td>0</td>\n",
       "      <td>0</td>\n",
       "      <td>0</td>\n",
       "      <td>1</td>\n",
       "      <td>0</td>\n",
       "      <td>1</td>\n",
       "    </tr>\n",
       "    <tr>\n",
       "      <th>89</th>\n",
       "      <td>0.054512</td>\n",
       "      <td>0.051036</td>\n",
       "      <td>0.045673</td>\n",
       "      <td>-0.244313</td>\n",
       "      <td>0.172352</td>\n",
       "      <td>-0.647181</td>\n",
       "      <td>-0.188665</td>\n",
       "      <td>0.875050</td>\n",
       "      <td>0.714407</td>\n",
       "      <td>0.562740</td>\n",
       "      <td>...</td>\n",
       "      <td>0</td>\n",
       "      <td>1</td>\n",
       "      <td>0</td>\n",
       "      <td>0</td>\n",
       "      <td>0</td>\n",
       "      <td>0</td>\n",
       "      <td>0</td>\n",
       "      <td>1</td>\n",
       "      <td>0</td>\n",
       "      <td>1</td>\n",
       "    </tr>\n",
       "    <tr>\n",
       "      <th>90</th>\n",
       "      <td>0.663786</td>\n",
       "      <td>0.394523</td>\n",
       "      <td>0.164167</td>\n",
       "      <td>-0.781032</td>\n",
       "      <td>-0.770514</td>\n",
       "      <td>0.128186</td>\n",
       "      <td>0.655993</td>\n",
       "      <td>0.875050</td>\n",
       "      <td>0.106911</td>\n",
       "      <td>0.562740</td>\n",
       "      <td>...</td>\n",
       "      <td>0</td>\n",
       "      <td>0</td>\n",
       "      <td>0</td>\n",
       "      <td>1</td>\n",
       "      <td>0</td>\n",
       "      <td>0</td>\n",
       "      <td>0</td>\n",
       "      <td>1</td>\n",
       "      <td>0</td>\n",
       "      <td>1</td>\n",
       "    </tr>\n",
       "    <tr>\n",
       "      <th>91</th>\n",
       "      <td>0.537333</td>\n",
       "      <td>0.332071</td>\n",
       "      <td>0.145937</td>\n",
       "      <td>-0.244313</td>\n",
       "      <td>-0.204794</td>\n",
       "      <td>-0.356418</td>\n",
       "      <td>-0.572601</td>\n",
       "      <td>0.201098</td>\n",
       "      <td>-0.237337</td>\n",
       "      <td>-0.265051</td>\n",
       "      <td>...</td>\n",
       "      <td>0</td>\n",
       "      <td>1</td>\n",
       "      <td>0</td>\n",
       "      <td>0</td>\n",
       "      <td>0</td>\n",
       "      <td>0</td>\n",
       "      <td>0</td>\n",
       "      <td>1</td>\n",
       "      <td>0</td>\n",
       "      <td>1</td>\n",
       "    </tr>\n",
       "    <tr>\n",
       "      <th>92</th>\n",
       "      <td>0.882205</td>\n",
       "      <td>0.748418</td>\n",
       "      <td>0.601684</td>\n",
       "      <td>-0.423219</td>\n",
       "      <td>-0.204794</td>\n",
       "      <td>-0.259498</td>\n",
       "      <td>0.464025</td>\n",
       "      <td>1.549001</td>\n",
       "      <td>-0.044963</td>\n",
       "      <td>0.808011</td>\n",
       "      <td>...</td>\n",
       "      <td>0</td>\n",
       "      <td>0</td>\n",
       "      <td>1</td>\n",
       "      <td>0</td>\n",
       "      <td>0</td>\n",
       "      <td>0</td>\n",
       "      <td>0</td>\n",
       "      <td>1</td>\n",
       "      <td>0</td>\n",
       "      <td>1</td>\n",
       "    </tr>\n",
       "  </tbody>\n",
       "</table>\n",
       "<p>93 rows × 34 columns</p>\n",
       "</div>"
      ],
      "text/plain": [
       "    MinPrice     Price  MaxPrice   MPGcity  MPGhighway  EngineSize  \\\n",
       "0  -0.485787 -0.375720 -0.282465  0.471312    0.360925   -0.841022   \n",
       "1   1.388017  1.497844  1.531409 -0.781032   -0.770514    0.515869   \n",
       "2   1.008658  0.998227  0.948052 -0.423219   -0.581941    0.128186   \n",
       "3   1.571949  1.893374  2.069191 -0.602126   -0.581941    0.128186   \n",
       "4   0.755752  1.091905  1.303535 -0.065407    0.172352    0.806631   \n",
       "..       ...       ...       ...       ...         ...         ...   \n",
       "88 -0.060445  0.019810  0.073018 -0.959938   -1.524806   -0.162577   \n",
       "89  0.054512  0.051036  0.045673 -0.244313    0.172352   -0.647181   \n",
       "90  0.663786  0.394523  0.164167 -0.781032   -0.770514    0.128186   \n",
       "91  0.537333  0.332071  0.145937 -0.244313   -0.204794   -0.356418   \n",
       "92  0.882205  0.748418  0.601684 -0.423219   -0.204794   -0.259498   \n",
       "\n",
       "    Horsepower       RPM  RevPerMile  FuelTankCapacity  ...  Cylinders_3  \\\n",
       "0    -0.073484  1.717489    1.129530         -1.062184  ...            0   \n",
       "1     1.078322  0.369586    0.005661          0.409445  ...            0   \n",
       "2     0.540813  0.369586   -0.105713          0.072197  ...            0   \n",
       "3     0.540813  0.369586    0.410659          1.359872  ...            0   \n",
       "4     1.231897  0.706562    0.430909          1.359872  ...            0   \n",
       "..         ...       ...         ...               ...  ...          ...   \n",
       "88   -0.668585 -1.315292    1.180155          1.359872  ...            0   \n",
       "89   -0.188665  0.875050    0.714407          0.562740  ...            0   \n",
       "90    0.655993  0.875050    0.106911          0.562740  ...            0   \n",
       "91   -0.572601  0.201098   -0.237337         -0.265051  ...            0   \n",
       "92    0.464025  1.549001   -0.044963          0.808011  ...            0   \n",
       "\n",
       "    Cylinders_4  Cylinders_5  Cylinders_6  Cylinders_8  Cylinders_rotary  \\\n",
       "0             1            0            0            0                 0   \n",
       "1             0            0            1            0                 0   \n",
       "2             0            0            1            0                 0   \n",
       "3             0            0            1            0                 0   \n",
       "4             1            0            0            0                 0   \n",
       "..          ...          ...          ...          ...               ...   \n",
       "88            0            1            0            0                 0   \n",
       "89            1            0            0            0                 0   \n",
       "90            0            0            1            0                 0   \n",
       "91            1            0            0            0                 0   \n",
       "92            0            1            0            0                 0   \n",
       "\n",
       "    ManTransAvail_No  ManTransAvail_Yes  Origin_USA  Origin_non-USA  \n",
       "0                  0                  1           0               1  \n",
       "1                  0                  1           0               1  \n",
       "2                  0                  1           0               1  \n",
       "3                  0                  1           0               1  \n",
       "4                  0                  1           0               1  \n",
       "..               ...                ...         ...             ...  \n",
       "88                 0                  1           0               1  \n",
       "89                 0                  1           0               1  \n",
       "90                 0                  1           0               1  \n",
       "91                 0                  1           0               1  \n",
       "92                 0                  1           0               1  \n",
       "\n",
       "[93 rows x 34 columns]"
      ]
     },
     "execution_count": 46,
     "metadata": {},
     "output_type": "execute_result"
    }
   ],
   "source": [
    "from sklearn.preprocessing import StandardScaler\n",
    "ss = StandardScaler()\n",
    "X1 = pd.DataFrame(ss.fit_transform(X[imp_con_cols]), columns=imp_con_cols)\n",
    "X2 = pd.get_dummies(X[imp_cat_cols])\n",
    "Xnew = X1.join(X2)\n",
    "Xnew"
   ]
  },
  {
   "cell_type": "code",
   "execution_count": 47,
   "id": "30e1f173",
   "metadata": {
    "scrolled": true
   },
   "outputs": [
    {
     "name": "stdout",
     "output_type": "stream",
     "text": [
      "<class 'pandas.core.frame.DataFrame'>\n",
      "RangeIndex: 93 entries, 0 to 92\n",
      "Data columns (total 34 columns):\n",
      " #   Column                      Non-Null Count  Dtype  \n",
      "---  ------                      --------------  -----  \n",
      " 0   MinPrice                    93 non-null     float64\n",
      " 1   Price                       93 non-null     float64\n",
      " 2   MaxPrice                    93 non-null     float64\n",
      " 3   MPGcity                     93 non-null     float64\n",
      " 4   MPGhighway                  93 non-null     float64\n",
      " 5   EngineSize                  93 non-null     float64\n",
      " 6   Horsepower                  93 non-null     float64\n",
      " 7   RPM                         93 non-null     float64\n",
      " 8   RevPerMile                  93 non-null     float64\n",
      " 9   FuelTankCapacity            93 non-null     float64\n",
      " 10  Passengers                  93 non-null     float64\n",
      " 11  Length                      93 non-null     float64\n",
      " 12  Wheelbase                   93 non-null     float64\n",
      " 13  Width                       93 non-null     float64\n",
      " 14  TurnCircle                  93 non-null     float64\n",
      " 15  RearSeatRoom                93 non-null     float64\n",
      " 16  LuggageRoom                 93 non-null     float64\n",
      " 17  Weight                      93 non-null     float64\n",
      " 18  AirBags_Driver & Passenger  93 non-null     uint8  \n",
      " 19  AirBags_Driver only         93 non-null     uint8  \n",
      " 20  AirBags_None                93 non-null     uint8  \n",
      " 21  DriveTrain_4WD              93 non-null     uint8  \n",
      " 22  DriveTrain_Front            93 non-null     uint8  \n",
      " 23  DriveTrain_Rear             93 non-null     uint8  \n",
      " 24  Cylinders_3                 93 non-null     uint8  \n",
      " 25  Cylinders_4                 93 non-null     uint8  \n",
      " 26  Cylinders_5                 93 non-null     uint8  \n",
      " 27  Cylinders_6                 93 non-null     uint8  \n",
      " 28  Cylinders_8                 93 non-null     uint8  \n",
      " 29  Cylinders_rotary            93 non-null     uint8  \n",
      " 30  ManTransAvail_No            93 non-null     uint8  \n",
      " 31  ManTransAvail_Yes           93 non-null     uint8  \n",
      " 32  Origin_USA                  93 non-null     uint8  \n",
      " 33  Origin_non-USA              93 non-null     uint8  \n",
      "dtypes: float64(18), uint8(16)\n",
      "memory usage: 14.7 KB\n"
     ]
    }
   ],
   "source": [
    "Xnew.info()"
   ]
  },
  {
   "cell_type": "markdown",
   "id": "de7db953",
   "metadata": {},
   "source": [
    "# Split the Data"
   ]
  },
  {
   "cell_type": "code",
   "execution_count": 48,
   "id": "6a490e96",
   "metadata": {},
   "outputs": [],
   "source": [
    "from sklearn.model_selection import train_test_split\n",
    "xtrain,xtest,ytrain,ytest = train_test_split(Xnew,Y,test_size=0.2, random_state=31)"
   ]
  },
  {
   "cell_type": "markdown",
   "id": "b40ca5b5",
   "metadata": {},
   "source": [
    "# Model"
   ]
  },
  {
   "cell_type": "code",
   "execution_count": 49,
   "id": "1cec89b8",
   "metadata": {
    "scrolled": true
   },
   "outputs": [
    {
     "name": "stdout",
     "output_type": "stream",
     "text": [
      "1.0\n",
      "0.789\n"
     ]
    }
   ],
   "source": [
    "from sklearn.ensemble import RandomForestClassifier\n",
    "rfc = RandomForestClassifier(random_state=31,min_samples_split=5)\n",
    "model = rfc.fit(xtrain,ytrain)\n",
    "pred_tr = model.predict(xtrain)\n",
    "pred_ts = model.predict(xtest)\n",
    "from sklearn.metrics import accuracy_score\n",
    "tr_acc = accuracy_score(ytrain,pred_tr)\n",
    "ts_acc = accuracy_score(ytest,pred_ts)\n",
    "\n",
    "print(round(tr_acc,3))\n",
    "print(round(ts_acc,3))"
   ]
  },
  {
   "cell_type": "markdown",
   "id": "a765d6d4",
   "metadata": {},
   "source": [
    "# Pruning the Model"
   ]
  },
  {
   "cell_type": "code",
   "execution_count": 50,
   "id": "e3080ffb",
   "metadata": {},
   "outputs": [
    {
     "name": "stdout",
     "output_type": "stream",
     "text": [
      "2\n",
      "1.0 \t\t 0.7894736842105263\n",
      "------------*--------\n",
      "3\n",
      "1.0 \t\t 0.7894736842105263\n",
      "------------*--------\n",
      "4\n",
      "1.0 \t\t 0.7368421052631579\n",
      "------------*--------\n",
      "5\n",
      "1.0 \t\t 0.7894736842105263\n",
      "------------*--------\n",
      "6\n",
      "1.0 \t\t 0.7894736842105263\n",
      "------------*--------\n",
      "7\n",
      "1.0 \t\t 0.8421052631578947\n",
      "------------*--------\n",
      "8\n",
      "1.0 \t\t 0.8421052631578947\n",
      "------------*--------\n",
      "9\n",
      "1.0 \t\t 0.8421052631578947\n",
      "------------*--------\n",
      "10\n",
      "1.0 \t\t 0.8421052631578947\n",
      "------------*--------\n",
      "11\n",
      "1.0 \t\t 0.8421052631578947\n",
      "------------*--------\n",
      "12\n",
      "1.0 \t\t 0.7894736842105263\n",
      "------------*--------\n",
      "13\n",
      "1.0 \t\t 0.7894736842105263\n",
      "------------*--------\n",
      "14\n",
      "0.972972972972973 \t\t 0.7894736842105263\n",
      "------------*--------\n",
      "15\n",
      "0.9864864864864865 \t\t 0.7894736842105263\n",
      "------------*--------\n",
      "16\n",
      "0.972972972972973 \t\t 0.7894736842105263\n",
      "------------*--------\n",
      "17\n",
      "0.972972972972973 \t\t 0.6842105263157895\n",
      "------------*--------\n",
      "18\n",
      "0.972972972972973 \t\t 0.7368421052631579\n",
      "------------*--------\n",
      "19\n",
      "0.9324324324324325 \t\t 0.7368421052631579\n",
      "------------*--------\n",
      "20\n",
      "0.918918918918919 \t\t 0.6842105263157895\n",
      "------------*--------\n",
      "21\n",
      "0.918918918918919 \t\t 0.7368421052631579\n",
      "------------*--------\n",
      "22\n",
      "0.8918918918918919 \t\t 0.8421052631578947\n",
      "------------*--------\n",
      "23\n",
      "0.8918918918918919 \t\t 0.6842105263157895\n",
      "------------*--------\n",
      "24\n",
      "0.8783783783783784 \t\t 0.631578947368421\n",
      "------------*--------\n",
      "25\n",
      "0.8648648648648649 \t\t 0.631578947368421\n",
      "------------*--------\n",
      "26\n",
      "0.8648648648648649 \t\t 0.631578947368421\n",
      "------------*--------\n",
      "27\n",
      "0.8648648648648649 \t\t 0.631578947368421\n",
      "------------*--------\n",
      "28\n",
      "0.8513513513513513 \t\t 0.631578947368421\n",
      "------------*--------\n",
      "29\n",
      "0.8513513513513513 \t\t 0.631578947368421\n",
      "------------*--------\n",
      "30\n",
      "0.8648648648648649 \t\t 0.631578947368421\n",
      "------------*--------\n",
      "31\n",
      "0.8513513513513513 \t\t 0.631578947368421\n",
      "------------*--------\n",
      "32\n",
      "0.8378378378378378 \t\t 0.631578947368421\n",
      "------------*--------\n",
      "33\n",
      "0.7702702702702703 \t\t 0.5789473684210527\n",
      "------------*--------\n",
      "34\n",
      "0.7162162162162162 \t\t 0.5789473684210527\n",
      "------------*--------\n",
      "35\n",
      "0.6081081081081081 \t\t 0.5789473684210527\n",
      "------------*--------\n",
      "36\n",
      "0.6216216216216216 \t\t 0.5789473684210527\n",
      "------------*--------\n",
      "37\n",
      "0.581081081081081 \t\t 0.5263157894736842\n",
      "------------*--------\n",
      "38\n",
      "0.581081081081081 \t\t 0.5263157894736842\n",
      "------------*--------\n",
      "39\n",
      "0.5405405405405406 \t\t 0.5263157894736842\n",
      "------------*--------\n",
      "40\n",
      "0.5 \t\t 0.5263157894736842\n",
      "------------*--------\n",
      "41\n",
      "0.5 \t\t 0.5263157894736842\n",
      "------------*--------\n",
      "42\n",
      "0.4864864864864865 \t\t 0.5263157894736842\n",
      "------------*--------\n",
      "43\n",
      "0.4864864864864865 \t\t 0.5263157894736842\n",
      "------------*--------\n",
      "44\n",
      "0.44594594594594594 \t\t 0.5263157894736842\n",
      "------------*--------\n",
      "45\n",
      "0.44594594594594594 \t\t 0.5263157894736842\n",
      "------------*--------\n",
      "46\n",
      "0.44594594594594594 \t\t 0.5263157894736842\n",
      "------------*--------\n",
      "47\n",
      "0.44594594594594594 \t\t 0.5263157894736842\n",
      "------------*--------\n",
      "48\n",
      "0.44594594594594594 \t\t 0.5263157894736842\n",
      "------------*--------\n",
      "49\n",
      "0.44594594594594594 \t\t 0.5263157894736842\n",
      "------------*--------\n"
     ]
    }
   ],
   "source": [
    "for i in range(2,50,1):\n",
    "    rfc = RandomForestClassifier(random_state=31,min_samples_split=i)\n",
    "    model = rfc.fit(xtrain,ytrain)\n",
    "    pred_tr = model.predict(xtrain)\n",
    "    pred_ts = model.predict(xtest)\n",
    "    from sklearn.metrics import accuracy_score\n",
    "    tr_acc = accuracy_score(ytrain,pred_tr)\n",
    "    ts_acc = accuracy_score(ytest,pred_ts)\n",
    "    print(i)\n",
    "    print(tr_acc,\"\\t\\t\", ts_acc)\n",
    "    print(\"------------*--------\")"
   ]
  },
  {
   "cell_type": "code",
   "execution_count": 51,
   "id": "516337bf",
   "metadata": {},
   "outputs": [
    {
     "name": "stdout",
     "output_type": "stream",
     "text": [
      "2\n",
      "0.8918918918918919 \t\t 0.631578947368421\n",
      "------------*--------\n",
      "3\n",
      "1.0 \t\t 0.8421052631578947\n",
      "------------*--------\n",
      "4\n",
      "1.0 \t\t 0.7894736842105263\n",
      "------------*--------\n",
      "5\n",
      "1.0 \t\t 0.7894736842105263\n",
      "------------*--------\n",
      "6\n",
      "1.0 \t\t 0.7894736842105263\n",
      "------------*--------\n",
      "7\n",
      "1.0 \t\t 0.7894736842105263\n",
      "------------*--------\n",
      "8\n",
      "1.0 \t\t 0.7894736842105263\n",
      "------------*--------\n",
      "9\n",
      "1.0 \t\t 0.7894736842105263\n",
      "------------*--------\n",
      "10\n",
      "1.0 \t\t 0.7894736842105263\n",
      "------------*--------\n",
      "11\n",
      "1.0 \t\t 0.7894736842105263\n",
      "------------*--------\n",
      "12\n",
      "1.0 \t\t 0.7894736842105263\n",
      "------------*--------\n",
      "13\n",
      "1.0 \t\t 0.7894736842105263\n",
      "------------*--------\n",
      "14\n",
      "1.0 \t\t 0.7894736842105263\n",
      "------------*--------\n",
      "15\n",
      "1.0 \t\t 0.7894736842105263\n",
      "------------*--------\n",
      "16\n",
      "1.0 \t\t 0.7894736842105263\n",
      "------------*--------\n",
      "17\n",
      "1.0 \t\t 0.7894736842105263\n",
      "------------*--------\n",
      "18\n",
      "1.0 \t\t 0.7894736842105263\n",
      "------------*--------\n",
      "19\n",
      "1.0 \t\t 0.7894736842105263\n",
      "------------*--------\n",
      "20\n",
      "1.0 \t\t 0.7894736842105263\n",
      "------------*--------\n",
      "21\n",
      "1.0 \t\t 0.7894736842105263\n",
      "------------*--------\n",
      "22\n",
      "1.0 \t\t 0.7894736842105263\n",
      "------------*--------\n",
      "23\n",
      "1.0 \t\t 0.7894736842105263\n",
      "------------*--------\n",
      "24\n",
      "1.0 \t\t 0.7894736842105263\n",
      "------------*--------\n",
      "25\n",
      "1.0 \t\t 0.7894736842105263\n",
      "------------*--------\n",
      "26\n",
      "1.0 \t\t 0.7894736842105263\n",
      "------------*--------\n",
      "27\n",
      "1.0 \t\t 0.7894736842105263\n",
      "------------*--------\n",
      "28\n",
      "1.0 \t\t 0.7894736842105263\n",
      "------------*--------\n",
      "29\n",
      "1.0 \t\t 0.7894736842105263\n",
      "------------*--------\n",
      "30\n",
      "1.0 \t\t 0.7894736842105263\n",
      "------------*--------\n",
      "31\n",
      "1.0 \t\t 0.7894736842105263\n",
      "------------*--------\n",
      "32\n",
      "1.0 \t\t 0.7894736842105263\n",
      "------------*--------\n",
      "33\n",
      "1.0 \t\t 0.7894736842105263\n",
      "------------*--------\n",
      "34\n",
      "1.0 \t\t 0.7894736842105263\n",
      "------------*--------\n",
      "35\n",
      "1.0 \t\t 0.7894736842105263\n",
      "------------*--------\n",
      "36\n",
      "1.0 \t\t 0.7894736842105263\n",
      "------------*--------\n",
      "37\n",
      "1.0 \t\t 0.7894736842105263\n",
      "------------*--------\n",
      "38\n",
      "1.0 \t\t 0.7894736842105263\n",
      "------------*--------\n",
      "39\n",
      "1.0 \t\t 0.7894736842105263\n",
      "------------*--------\n",
      "40\n",
      "1.0 \t\t 0.7894736842105263\n",
      "------------*--------\n",
      "41\n",
      "1.0 \t\t 0.7894736842105263\n",
      "------------*--------\n",
      "42\n",
      "1.0 \t\t 0.7894736842105263\n",
      "------------*--------\n",
      "43\n",
      "1.0 \t\t 0.7894736842105263\n",
      "------------*--------\n",
      "44\n",
      "1.0 \t\t 0.7894736842105263\n",
      "------------*--------\n",
      "45\n",
      "1.0 \t\t 0.7894736842105263\n",
      "------------*--------\n",
      "46\n",
      "1.0 \t\t 0.7894736842105263\n",
      "------------*--------\n",
      "47\n",
      "1.0 \t\t 0.7894736842105263\n",
      "------------*--------\n",
      "48\n",
      "1.0 \t\t 0.7894736842105263\n",
      "------------*--------\n",
      "49\n",
      "1.0 \t\t 0.7894736842105263\n",
      "------------*--------\n"
     ]
    }
   ],
   "source": [
    "for i in range(2,50,1):\n",
    "    rfc = RandomForestClassifier(random_state=31,max_depth=i)\n",
    "    model = rfc.fit(xtrain,ytrain)\n",
    "    pred_tr = model.predict(xtrain)\n",
    "    pred_ts = model.predict(xtest)\n",
    "    from sklearn.metrics import accuracy_score\n",
    "    tr_acc = accuracy_score(ytrain,pred_tr)\n",
    "    ts_acc = accuracy_score(ytest,pred_ts)\n",
    "    print(i)\n",
    "    print(tr_acc,\"\\t\\t\", ts_acc)\n",
    "    print(\"------------*--------\")"
   ]
  },
  {
   "cell_type": "code",
   "execution_count": 52,
   "id": "53e4c350",
   "metadata": {},
   "outputs": [
    {
     "name": "stdout",
     "output_type": "stream",
     "text": [
      "2\n",
      "1.0 \t\t 0.7894736842105263\n",
      "------------*--------\n",
      "3\n",
      "1.0 \t\t 0.7894736842105263\n",
      "------------*--------\n",
      "4\n",
      "1.0 \t\t 0.7894736842105263\n",
      "------------*--------\n",
      "5\n",
      "0.9864864864864865 \t\t 0.7894736842105263\n",
      "------------*--------\n",
      "6\n",
      "0.9864864864864865 \t\t 0.7368421052631579\n",
      "------------*--------\n",
      "7\n",
      "0.9594594594594594 \t\t 0.7368421052631579\n",
      "------------*--------\n",
      "8\n",
      "0.9459459459459459 \t\t 0.6842105263157895\n",
      "------------*--------\n",
      "9\n",
      "0.9054054054054054 \t\t 0.6842105263157895\n",
      "------------*--------\n",
      "10\n",
      "0.8513513513513513 \t\t 0.631578947368421\n",
      "------------*--------\n",
      "11\n",
      "0.7432432432432432 \t\t 0.5789473684210527\n",
      "------------*--------\n",
      "12\n",
      "0.7027027027027027 \t\t 0.5789473684210527\n",
      "------------*--------\n",
      "13\n",
      "0.6351351351351351 \t\t 0.5789473684210527\n",
      "------------*--------\n",
      "14\n",
      "0.6216216216216216 \t\t 0.5789473684210527\n",
      "------------*--------\n",
      "15\n",
      "0.6216216216216216 \t\t 0.5789473684210527\n",
      "------------*--------\n",
      "16\n",
      "0.5405405405405406 \t\t 0.5789473684210527\n",
      "------------*--------\n",
      "17\n",
      "0.4864864864864865 \t\t 0.5263157894736842\n",
      "------------*--------\n",
      "18\n",
      "0.4864864864864865 \t\t 0.5263157894736842\n",
      "------------*--------\n",
      "19\n",
      "0.47297297297297297 \t\t 0.5263157894736842\n",
      "------------*--------\n",
      "20\n",
      "0.4864864864864865 \t\t 0.5263157894736842\n",
      "------------*--------\n",
      "21\n",
      "0.4594594594594595 \t\t 0.5263157894736842\n",
      "------------*--------\n",
      "22\n",
      "0.44594594594594594 \t\t 0.5263157894736842\n",
      "------------*--------\n",
      "23\n",
      "0.44594594594594594 \t\t 0.5263157894736842\n",
      "------------*--------\n",
      "24\n",
      "0.44594594594594594 \t\t 0.5263157894736842\n",
      "------------*--------\n",
      "25\n",
      "0.40540540540540543 \t\t 0.47368421052631576\n",
      "------------*--------\n",
      "26\n",
      "0.36486486486486486 \t\t 0.42105263157894735\n",
      "------------*--------\n",
      "27\n",
      "0.22972972972972974 \t\t 0.21052631578947367\n",
      "------------*--------\n",
      "28\n",
      "0.22972972972972974 \t\t 0.21052631578947367\n",
      "------------*--------\n",
      "29\n",
      "0.22972972972972974 \t\t 0.21052631578947367\n",
      "------------*--------\n",
      "30\n",
      "0.22972972972972974 \t\t 0.21052631578947367\n",
      "------------*--------\n",
      "31\n",
      "0.22972972972972974 \t\t 0.21052631578947367\n",
      "------------*--------\n",
      "32\n",
      "0.22972972972972974 \t\t 0.21052631578947367\n",
      "------------*--------\n",
      "33\n",
      "0.22972972972972974 \t\t 0.21052631578947367\n",
      "------------*--------\n",
      "34\n",
      "0.22972972972972974 \t\t 0.21052631578947367\n",
      "------------*--------\n",
      "35\n",
      "0.22972972972972974 \t\t 0.21052631578947367\n",
      "------------*--------\n",
      "36\n",
      "0.22972972972972974 \t\t 0.21052631578947367\n",
      "------------*--------\n",
      "37\n",
      "0.22972972972972974 \t\t 0.21052631578947367\n",
      "------------*--------\n",
      "38\n",
      "0.22972972972972974 \t\t 0.21052631578947367\n",
      "------------*--------\n",
      "39\n",
      "0.22972972972972974 \t\t 0.21052631578947367\n",
      "------------*--------\n",
      "40\n",
      "0.22972972972972974 \t\t 0.21052631578947367\n",
      "------------*--------\n",
      "41\n",
      "0.22972972972972974 \t\t 0.21052631578947367\n",
      "------------*--------\n",
      "42\n",
      "0.22972972972972974 \t\t 0.21052631578947367\n",
      "------------*--------\n",
      "43\n",
      "0.22972972972972974 \t\t 0.21052631578947367\n",
      "------------*--------\n",
      "44\n",
      "0.22972972972972974 \t\t 0.21052631578947367\n",
      "------------*--------\n",
      "45\n",
      "0.22972972972972974 \t\t 0.21052631578947367\n",
      "------------*--------\n",
      "46\n",
      "0.22972972972972974 \t\t 0.21052631578947367\n",
      "------------*--------\n",
      "47\n",
      "0.22972972972972974 \t\t 0.21052631578947367\n",
      "------------*--------\n",
      "48\n",
      "0.22972972972972974 \t\t 0.21052631578947367\n",
      "------------*--------\n",
      "49\n",
      "0.22972972972972974 \t\t 0.21052631578947367\n",
      "------------*--------\n"
     ]
    }
   ],
   "source": [
    "for i in range(2,50,1):\n",
    "    rfc = RandomForestClassifier(random_state=31,min_samples_leaf=i)\n",
    "    model = rfc.fit(xtrain,ytrain)\n",
    "    pred_tr = model.predict(xtrain)\n",
    "    pred_ts = model.predict(xtest)\n",
    "    from sklearn.metrics import accuracy_score\n",
    "    tr_acc = accuracy_score(ytrain,pred_tr)\n",
    "    ts_acc = accuracy_score(ytest,pred_ts)\n",
    "    print(i)\n",
    "    print(tr_acc,\"\\t\\t\", ts_acc)\n",
    "    print(\"------------*--------\")"
   ]
  },
  {
   "cell_type": "code",
   "execution_count": 53,
   "id": "fb9f68eb",
   "metadata": {},
   "outputs": [
    {
     "name": "stdout",
     "output_type": "stream",
     "text": [
      "1.0\n",
      "0.842\n"
     ]
    }
   ],
   "source": [
    "from sklearn.ensemble import RandomForestClassifier\n",
    "rfc = RandomForestClassifier(random_state=31,min_samples_split=8)\n",
    "model = rfc.fit(xtrain,ytrain)\n",
    "pred_tr = model.predict(xtrain)\n",
    "pred_ts = model.predict(xtest)\n",
    "from sklearn.metrics import accuracy_score\n",
    "tr_acc = accuracy_score(ytrain,pred_tr)\n",
    "ts_acc = accuracy_score(ytest,pred_ts)\n",
    "\n",
    "print(round(tr_acc,3))\n",
    "print(round(ts_acc,3))"
   ]
  },
  {
   "cell_type": "code",
   "execution_count": 54,
   "id": "59e51dfa",
   "metadata": {},
   "outputs": [
    {
     "name": "stdout",
     "output_type": "stream",
     "text": [
      "1.0\n",
      "0.842\n"
     ]
    }
   ],
   "source": [
    "from sklearn.ensemble import RandomForestClassifier\n",
    "rfc = RandomForestClassifier(random_state=31,max_depth=3)\n",
    "model = rfc.fit(xtrain,ytrain)\n",
    "pred_tr = model.predict(xtrain)\n",
    "pred_ts = model.predict(xtest)\n",
    "from sklearn.metrics import accuracy_score\n",
    "tr_acc = accuracy_score(ytrain,pred_tr)\n",
    "ts_acc = accuracy_score(ytest,pred_ts)\n",
    "\n",
    "print(round(tr_acc,3))\n",
    "print(round(ts_acc,3))"
   ]
  },
  {
   "cell_type": "code",
   "execution_count": 55,
   "id": "23634b34",
   "metadata": {
    "scrolled": true
   },
   "outputs": [
    {
     "data": {
      "text/plain": [
       "array([[2, 0, 0, 0, 0, 0],\n",
       "       [0, 4, 0, 0, 0, 0],\n",
       "       [0, 1, 5, 0, 0, 0],\n",
       "       [0, 0, 0, 3, 1, 0],\n",
       "       [0, 0, 0, 1, 1, 0],\n",
       "       [0, 0, 0, 0, 0, 1]], dtype=int64)"
      ]
     },
     "execution_count": 55,
     "metadata": {},
     "output_type": "execute_result"
    }
   ],
   "source": [
    "from sklearn.metrics import confusion_matrix\n",
    "confusion_matrix(ytest,pred_ts)"
   ]
  },
  {
   "cell_type": "markdown",
   "id": "a24b7e85",
   "metadata": {},
   "source": [
    "# Predication"
   ]
  },
  {
   "cell_type": "code",
   "execution_count": 56,
   "id": "fa490735",
   "metadata": {},
   "outputs": [],
   "source": [
    "ytest['Car_Type_Prediction']=pred_ts"
   ]
  },
  {
   "cell_type": "code",
   "execution_count": 57,
   "id": "c5251f45",
   "metadata": {},
   "outputs": [
    {
     "data": {
      "text/html": [
       "<div>\n",
       "<style scoped>\n",
       "    .dataframe tbody tr th:only-of-type {\n",
       "        vertical-align: middle;\n",
       "    }\n",
       "\n",
       "    .dataframe tbody tr th {\n",
       "        vertical-align: top;\n",
       "    }\n",
       "\n",
       "    .dataframe thead th {\n",
       "        text-align: right;\n",
       "    }\n",
       "</style>\n",
       "<table border=\"1\" class=\"dataframe\">\n",
       "  <thead>\n",
       "    <tr style=\"text-align: right;\">\n",
       "      <th></th>\n",
       "      <th>Type</th>\n",
       "      <th>Car_Type_Prediction</th>\n",
       "    </tr>\n",
       "  </thead>\n",
       "  <tbody>\n",
       "    <tr>\n",
       "      <th>77</th>\n",
       "      <td>Compact</td>\n",
       "      <td>Compact</td>\n",
       "    </tr>\n",
       "    <tr>\n",
       "      <th>2</th>\n",
       "      <td>Compact</td>\n",
       "      <td>Compact</td>\n",
       "    </tr>\n",
       "    <tr>\n",
       "      <th>51</th>\n",
       "      <td>Large</td>\n",
       "      <td>Large</td>\n",
       "    </tr>\n",
       "    <tr>\n",
       "      <th>76</th>\n",
       "      <td>Large</td>\n",
       "      <td>Large</td>\n",
       "    </tr>\n",
       "    <tr>\n",
       "      <th>7</th>\n",
       "      <td>Large</td>\n",
       "      <td>Large</td>\n",
       "    </tr>\n",
       "    <tr>\n",
       "      <th>17</th>\n",
       "      <td>Large</td>\n",
       "      <td>Large</td>\n",
       "    </tr>\n",
       "    <tr>\n",
       "      <th>60</th>\n",
       "      <td>Midsize</td>\n",
       "      <td>Large</td>\n",
       "    </tr>\n",
       "    <tr>\n",
       "      <th>8</th>\n",
       "      <td>Midsize</td>\n",
       "      <td>Midsize</td>\n",
       "    </tr>\n",
       "    <tr>\n",
       "      <th>36</th>\n",
       "      <td>Midsize</td>\n",
       "      <td>Midsize</td>\n",
       "    </tr>\n",
       "    <tr>\n",
       "      <th>62</th>\n",
       "      <td>Midsize</td>\n",
       "      <td>Midsize</td>\n",
       "    </tr>\n",
       "    <tr>\n",
       "      <th>47</th>\n",
       "      <td>Midsize</td>\n",
       "      <td>Midsize</td>\n",
       "    </tr>\n",
       "    <tr>\n",
       "      <th>14</th>\n",
       "      <td>Midsize</td>\n",
       "      <td>Midsize</td>\n",
       "    </tr>\n",
       "    <tr>\n",
       "      <th>72</th>\n",
       "      <td>Small</td>\n",
       "      <td>Small</td>\n",
       "    </tr>\n",
       "    <tr>\n",
       "      <th>53</th>\n",
       "      <td>Small</td>\n",
       "      <td>Small</td>\n",
       "    </tr>\n",
       "    <tr>\n",
       "      <th>30</th>\n",
       "      <td>Small</td>\n",
       "      <td>Small</td>\n",
       "    </tr>\n",
       "    <tr>\n",
       "      <th>0</th>\n",
       "      <td>Small</td>\n",
       "      <td>Sporty</td>\n",
       "    </tr>\n",
       "    <tr>\n",
       "      <th>45</th>\n",
       "      <td>Sporty</td>\n",
       "      <td>Small</td>\n",
       "    </tr>\n",
       "    <tr>\n",
       "      <th>34</th>\n",
       "      <td>Sporty</td>\n",
       "      <td>Sporty</td>\n",
       "    </tr>\n",
       "    <tr>\n",
       "      <th>69</th>\n",
       "      <td>Van</td>\n",
       "      <td>Van</td>\n",
       "    </tr>\n",
       "  </tbody>\n",
       "</table>\n",
       "</div>"
      ],
      "text/plain": [
       "       Type Car_Type_Prediction\n",
       "77  Compact             Compact\n",
       "2   Compact             Compact\n",
       "51    Large               Large\n",
       "76    Large               Large\n",
       "7     Large               Large\n",
       "17    Large               Large\n",
       "60  Midsize               Large\n",
       "8   Midsize             Midsize\n",
       "36  Midsize             Midsize\n",
       "62  Midsize             Midsize\n",
       "47  Midsize             Midsize\n",
       "14  Midsize             Midsize\n",
       "72    Small               Small\n",
       "53    Small               Small\n",
       "30    Small               Small\n",
       "0     Small              Sporty\n",
       "45   Sporty               Small\n",
       "34   Sporty              Sporty\n",
       "69      Van                 Van"
      ]
     },
     "execution_count": 57,
     "metadata": {},
     "output_type": "execute_result"
    }
   ],
   "source": [
    "ytest.sort_values(by=[\"Type\",\"Car_Type_Prediction\"])"
   ]
  },
  {
   "cell_type": "code",
   "execution_count": null,
   "id": "817f2301",
   "metadata": {},
   "outputs": [],
   "source": []
  },
  {
   "cell_type": "code",
   "execution_count": null,
   "id": "59a0118a",
   "metadata": {},
   "outputs": [],
   "source": []
  },
  {
   "cell_type": "code",
   "execution_count": null,
   "id": "4928c83c",
   "metadata": {},
   "outputs": [],
   "source": []
  }
 ],
 "metadata": {
  "kernelspec": {
   "display_name": "Python 3",
   "language": "python",
   "name": "python3"
  },
  "language_info": {
   "codemirror_mode": {
    "name": "ipython",
    "version": 3
   },
   "file_extension": ".py",
   "mimetype": "text/x-python",
   "name": "python",
   "nbconvert_exporter": "python",
   "pygments_lexer": "ipython3",
   "version": "3.8.8"
  }
 },
 "nbformat": 4,
 "nbformat_minor": 5
}
